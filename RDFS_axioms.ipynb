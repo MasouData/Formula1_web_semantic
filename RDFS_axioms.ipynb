{
 "cells": [
  {
   "cell_type": "markdown",
   "id": "0eb3b363",
   "metadata": {},
   "source": [
    "## classes and properties"
   ]
  },
  {
   "cell_type": "code",
   "execution_count": 7,
   "id": "32dd30b2",
   "metadata": {},
   "outputs": [],
   "source": [
    "from rdflib import Graph, URIRef, Literal, Namespace, RDF, XSD\n",
    "from rdflib.namespace import OWL, RDFS, FOAF\n",
    "\n",
    "F1 = Namespace('http://example.com/f1/')\n",
    "dbo = Namespace('http://dbpedia.org/ontology/')\n",
    "\n",
    "RACE = F1['Race']\n",
    "DRIVER = F1['Driver']\n",
    "TEAM = F1['Team']\n",
    "CIRCUIT = F1['Circuit']\n",
    "RACE_PARTICIPATION = F1['RaceParticipation']\n",
    "HAS_DRIVER = F1['hasDriver']\n",
    "HAS_TEAM = F1['hasTeam']\n",
    "HAS_CIRCUIT = F1['hasCircuit']\n",
    "HAS_POSITION = F1['hasPosition']\n",
    "HAS_POINTS = F1['hasPoints']\n",
    "\n",
    "g = Graph()"
   ]
  },
  {
   "cell_type": "markdown",
   "id": "f46f3f39",
   "metadata": {},
   "source": [
    "## RDFS Axioms"
   ]
  },
  {
   "cell_type": "code",
   "execution_count": 8,
   "id": "53bdbd1f",
   "metadata": {},
   "outputs": [
    {
     "data": {
      "text/plain": [
       "<Graph identifier=Nc4728efd1d034f1aa9bf354cfbe08347 (<class 'rdflib.graph.Graph'>)>"
      ]
     },
     "execution_count": 8,
     "metadata": {},
     "output_type": "execute_result"
    }
   ],
   "source": [
    "# Every driver is a person\n",
    "g.add((DRIVER, RDFS.subClassOf, FOAF.Person))\n",
    "\n",
    "# Every team is a constructor\n",
    "g.add((TEAM, RDFS.subClassOf, F1.Constructor))\n",
    "\n",
    "# Every race is an event\n",
    "g.add((RACE, RDFS.subClassOf, dbo.Event))\n",
    "\n",
    "# Every race participation involves a driver, a team, and a circuit\n",
    "g.add((RACE_PARTICIPATION, RDFS.subClassOf, dbo.Event))\n",
    "g.add((RACE_PARTICIPATION, RDFS.domain, RACE))\n",
    "g.add((HAS_DRIVER, RDFS.domain, RACE_PARTICIPATION))\n",
    "g.add((HAS_DRIVER, RDFS.range, DRIVER))\n",
    "g.add((HAS_TEAM, RDFS.domain, RACE_PARTICIPATION))\n",
    "g.add((HAS_TEAM, RDFS.range, TEAM))\n",
    "g.add((HAS_CIRCUIT, RDFS.domain, RACE_PARTICIPATION))\n",
    "g.add((HAS_CIRCUIT, RDFS.range, CIRCUIT))\n",
    "\n",
    "# Every race participation has a position and points\n",
    "g.add((HAS_POSITION, RDFS.domain, RACE_PARTICIPATION))\n",
    "g.add((HAS_POSITION, RDFS.range, XSD.integer))\n",
    "g.add((HAS_POINTS, RDFS.domain, RACE_PARTICIPATION))\n",
    "g.add((HAS_POINTS, RDFS.range, XSD.float))\n"
   ]
  },
  {
   "cell_type": "markdown",
   "id": "5a264558",
   "metadata": {},
   "source": [
    "## OWL Axioms "
   ]
  },
  {
   "cell_type": "code",
   "execution_count": 9,
   "id": "03fc1564",
   "metadata": {},
   "outputs": [
    {
     "data": {
      "text/plain": [
       "<Graph identifier=Nc4728efd1d034f1aa9bf354cfbe08347 (<class 'rdflib.graph.Graph'>)>"
      ]
     },
     "execution_count": 9,
     "metadata": {},
     "output_type": "execute_result"
    }
   ],
   "source": [
    "from rdflib import OWL\n",
    "\n",
    "#Every driver is distinct from every other driver:\n",
    "g.add((F1.Driver, OWL.distinctMembers, Literal(True, datatype=XSD.boolean)))\n",
    "\n",
    "#Every team is distinct from every other team:\n",
    "g.add((F1.Team, OWL.distinctMembers, Literal(True, datatype=XSD.boolean)))\n",
    "\n",
    "#Every race is distinct from every other race:\n",
    "g.add((F1.Race, OWL.distinctMembers, Literal(True, datatype=XSD.boolean)))\n",
    "\n",
    "#A driver can only have one nationality:\n",
    "g.add((F1.driverId, RDF.type, OWL.FunctionalProperty))\n",
    "\n",
    "# A race can only have one circuit:\n",
    "g.add((F1.raceId, RDF.type, OWL.FunctionalProperty))\n"
   ]
  },
  {
   "cell_type": "markdown",
   "id": "d90550de",
   "metadata": {},
   "source": [
    "## serialize the graph"
   ]
  },
  {
   "cell_type": "code",
   "execution_count": 10,
   "id": "8f7ede57",
   "metadata": {},
   "outputs": [
    {
     "data": {
      "text/plain": [
       "<Graph identifier=Nc4728efd1d034f1aa9bf354cfbe08347 (<class 'rdflib.graph.Graph'>)>"
      ]
     },
     "execution_count": 10,
     "metadata": {},
     "output_type": "execute_result"
    }
   ],
   "source": [
    "g.serialize('f1_data.rdf', format='turtle')"
   ]
  }
 ],
 "metadata": {
  "kernelspec": {
   "display_name": "Python 3 (ipykernel)",
   "language": "python",
   "name": "python3"
  },
  "language_info": {
   "codemirror_mode": {
    "name": "ipython",
    "version": 3
   },
   "file_extension": ".py",
   "mimetype": "text/x-python",
   "name": "python",
   "nbconvert_exporter": "python",
   "pygments_lexer": "ipython3",
   "version": "3.9.13"
  }
 },
 "nbformat": 4,
 "nbformat_minor": 5
}
