{
 "cells": [
  {
   "cell_type": "markdown",
   "id": "77e2a9aa",
   "metadata": {},
   "source": [
    "<h2>Data Cleaning</h2>"
   ]
  },
  {
   "cell_type": "code",
   "execution_count": 1,
   "id": "caa1a0f7",
   "metadata": {},
   "outputs": [
    {
     "name": "stdout",
     "output_type": "stream",
     "text": [
      "Yes, '\\N' exists in the following column(s) in circuits_df: alt\n",
      "Yes, '\\N' exists in the following column(s) in constructor_results_df: status\n",
      "Yes, '\\N' exists in the following column(s) in drivers_df: number, code\n",
      "Yes, '\\N' exists in the following column(s) in qualifying_df: q1, q2, q3\n",
      "Yes, '\\N' exists in the following column(s) in races_df: time, fp1_date, fp1_time, fp2_date, fp2_time, fp3_date, fp3_time, quali_date, quali_time, sprint_date, sprint_time\n",
      "Yes, '\\N' exists in the following column(s) in results_df: number, position, time, milliseconds, fastestLap, rank, fastestLapTime, fastestLapSpeed\n",
      "Yes, '\\N' exists in the following column(s) in sprint_results_df: position, time, milliseconds, fastestLap, fastestLapTime\n"
     ]
    }
   ],
   "source": [
    "import pandas as pd\n",
    "\n",
    "circuits_df = pd.read_csv('./circuits.csv')\n",
    "constructor_results_df = pd.read_csv('./constructor_results.csv')\n",
    "constructor_standings_df = pd.read_csv('./constructor_standings.csv')\n",
    "constructors_df = pd.read_csv('./constructors.csv')\n",
    "driver_standings_df = pd.read_csv('./driver_standings.csv')\n",
    "drivers_df = pd.read_csv('./drivers.csv')\n",
    "lap_times_df = pd.read_csv('./lap_times.csv')\n",
    "pit_stops_df = pd.read_csv('./pit_stops.csv')\n",
    "qualifying_df = pd.read_csv('./qualifying.csv')\n",
    "races_df = pd.read_csv('./races.csv')\n",
    "results_df = pd.read_csv('./results.csv')\n",
    "seasons_df = pd.read_csv('./seasons.csv')\n",
    "sprint_results_df = pd.read_csv('./sprint_results.csv')\n",
    "status_df = pd.read_csv('./status.csv')\n",
    "\n",
    "dataframes = {'circuits_df': circuits_df, 'constructor_results_df': constructor_results_df, \n",
    "              'constructor_standings_df': constructor_standings_df, 'constructors_df': constructors_df, \n",
    "              'driver_standings_df': driver_standings_df, 'drivers_df': drivers_df, \n",
    "              'lap_times_df': lap_times_df, 'pit_stops_df': pit_stops_df, \n",
    "              'qualifying_df': qualifying_df, 'races_df': races_df, \n",
    "              'results_df': results_df, 'seasons_df': seasons_df, \n",
    "              'sprint_results_df': sprint_results_df, 'status_df': status_df}\n",
    "\n",
    "columns_with_N = {}\n",
    "\n",
    "for name, df in dataframes.items():\n",
    "    df.replace('\\\\N', None, inplace=True)\n",
    "    columns = df.columns[df.isna().any()].tolist()\n",
    "    if columns:\n",
    "        columns_with_N[name] = columns\n",
    "\n",
    "for name, columns in columns_with_N.items():\n",
    "    print(f\"Yes, '\\\\N' exists in the following column(s) in {name}: {', '.join(columns)}\")\n"
   ]
  },
  {
   "cell_type": "markdown",
   "id": "611c70b1",
   "metadata": {},
   "source": [
    "<h2>Convert CSV to RDF</h2>"
   ]
  },
  {
   "cell_type": "code",
   "execution_count": 2,
   "id": "527988c3",
   "metadata": {},
   "outputs": [],
   "source": [
    "from rdflib import Graph, URIRef, Literal, Namespace, RDF, XSD\n",
    "from rdflib.namespace import OWL, RDFS, FOAF\n",
    "from rdflib.term import BNode\n",
    "F1 = Namespace('http://example.com/f1/')\n",
    "XSD = Namespace('http://www.w3.org/2001/XMLSchema#')\n",
    "FOAF = Namespace('http://xmlns.com/foaf/0.1/')\n",
    "dbo = Namespace('http://dbpedia.org/ontology/')\n",
    "\n",
    "g = Graph()"
   ]
  },
  {
   "cell_type": "markdown",
   "id": "298ec992",
   "metadata": {},
   "source": [
    "<p style='text-align: center;'><b>1- drivers_df</b></p>"
   ]
  },
  {
   "cell_type": "code",
   "execution_count": 3,
   "id": "500853b2",
   "metadata": {},
   "outputs": [],
   "source": [
    "for index, row in drivers_df.iterrows():\n",
    "    driver_uri = URIRef(F1['driver/' + str(row['driverId'])])\n",
    "    g.add((driver_uri, RDF.type, FOAF.Person))  \n",
    "    g.add((driver_uri, FOAF.nick, Literal(row['driverRef'])))  \n",
    "    if pd.notna(row['number']): #if number is not available, it is not included in the rdf file.  \n",
    "        g.add((driver_uri, F1.number, Literal(row['number'], datatype=XSD.integer)))\n",
    "    if pd.notna(row['code']):\n",
    "        g.add((driver_uri, F1.code, Literal(row['code'])))\n",
    "    g.add((driver_uri, FOAF.givenName, Literal(row['forename']))) \n",
    "    g.add((driver_uri, FOAF.familyName, Literal(row['surname'])))  \n",
    "    g.add((driver_uri, FOAF.birthday, Literal(row['dob'], datatype=XSD.date)))  \n",
    "    g.add((driver_uri, F1.nationality, Literal(row['nationality'])))\n",
    "    g.add((driver_uri, FOAF.homepage, URIRef(row['url'])))  "
   ]
  },
  {
   "cell_type": "markdown",
   "id": "53c87f05",
   "metadata": {},
   "source": [
    "<h4>Converting duration to a number in seconds</h4>"
   ]
  },
  {
   "cell_type": "code",
   "execution_count": 4,
   "id": "c6cce846",
   "metadata": {},
   "outputs": [],
   "source": [
    "def convert_to_seconds(time_str):\n",
    "    parts = time_str.split(':')\n",
    "    if len(parts) == 3:\n",
    "        return int(parts[0]) * 3600 + int(parts[1]) * 60 + float(parts[2])\n",
    "    elif len(parts) == 2:\n",
    "        return int(parts[0]) * 60 + float(parts[1])\n",
    "    else:\n",
    "        return float(parts[0])\n"
   ]
  },
  {
   "cell_type": "markdown",
   "id": "72c39d91",
   "metadata": {},
   "source": [
    "<p style='text-align: center;'><b>2- qualifying_df</b></p>"
   ]
  },
  {
   "cell_type": "code",
   "execution_count": 5,
   "id": "d8a593d7",
   "metadata": {},
   "outputs": [],
   "source": [
    "for index, row in qualifying_df.iterrows():\n",
    "    qualifying_uri = URIRef(F1['qualifying/' + str(row['qualifyId'])])\n",
    "    g.add((qualifying_uri, RDF.type, F1.Qualifying))\n",
    "    g.add((qualifying_uri, F1.raceId, URIRef(F1['race/' + str(row['raceId'])])))\n",
    "    g.add((qualifying_uri, F1.driverId, URIRef(F1['driver/' + str(row['driverId'])])))\n",
    "    g.add((qualifying_uri, F1.constructorId, URIRef(F1['constructor/' + str(row['constructorId'])])))\n",
    "    g.add((qualifying_uri, F1.number, Literal(row['number'], datatype=XSD.integer)))\n",
    "    g.add((qualifying_uri, F1.position, Literal(row['position'], datatype=XSD.integer)))\n",
    "    if pd.notna(row['q1']):\n",
    "        g.add((qualifying_uri, F1.q1, Literal(convert_to_seconds(row['q1']), datatype=XSD.integer)))\n",
    "    if pd.notna(row['q2']):\n",
    "        g.add((qualifying_uri, F1.q2, Literal(convert_to_seconds(row['q2']), datatype=XSD.integer)))\n",
    "    if pd.notna(row['q3']):\n",
    "        g.add((qualifying_uri, F1.q3, Literal(convert_to_seconds(row['q3']), datatype=XSD.integer)))"
   ]
  },
  {
   "cell_type": "markdown",
   "id": "464b331c",
   "metadata": {},
   "source": [
    "<p style='text-align: center;'><b>3- constructors_df</b></p>"
   ]
  },
  {
   "cell_type": "code",
   "execution_count": 6,
   "id": "f893d463",
   "metadata": {},
   "outputs": [],
   "source": [
    "for index, row in constructors_df.iterrows():\n",
    "    constructor_uri = URIRef(F1['constructor/' + str(row['constructorId'])])\n",
    "    g.add((constructor_uri, RDF.type, F1.Constructor))\n",
    "    g.add((constructor_uri, F1.constructorRef, Literal(row['constructorRef'])))\n",
    "    g.add((constructor_uri, F1.name, Literal(row['name'])))\n",
    "    g.add((constructor_uri, F1.nationality, Literal(row['nationality'])))\n",
    "    g.add((constructor_uri, F1.url, URIRef(row['url'])))"
   ]
  },
  {
   "cell_type": "markdown",
   "id": "0bedeff2",
   "metadata": {},
   "source": [
    "<p style='text-align: center;'><b>4- circuits_df</b></p>"
   ]
  },
  {
   "cell_type": "code",
   "execution_count": 7,
   "id": "d08bc8ec",
   "metadata": {},
   "outputs": [],
   "source": [
    "for index, row in circuits_df.iterrows():\n",
    "    circuit_uri = URIRef(F1['circuit/' + str(row['circuitId'])])\n",
    "    g.add((circuit_uri, RDF.type, F1.Circuit))\n",
    "    g.add((circuit_uri, F1.circuitRef, Literal(row['circuitRef'])))\n",
    "    g.add((circuit_uri, F1.name, Literal(row['name'])))\n",
    "    g.add((circuit_uri, F1.location, Literal(row['location'])))\n",
    "    g.add((circuit_uri, F1.country, Literal(row['country'])))\n",
    "    g.add((circuit_uri, F1.latlng, Literal(f\"{row['lat']},{row['lng']}\", datatype=XSD.string)))\n",
    "    if pd.notna(row['alt']):\n",
    "        g.add((circuit_uri, F1.alt, Literal(row['alt'], datatype=XSD.integer)))\n",
    "    g.add((circuit_uri, F1.url, URIRef(row['url'])))"
   ]
  },
  {
   "cell_type": "markdown",
   "id": "0333b96f",
   "metadata": {},
   "source": [
    "<p style='text-align: center;'><b>5- constructor_results_df</b></p>"
   ]
  },
  {
   "cell_type": "code",
   "execution_count": 8,
   "id": "570b84c8",
   "metadata": {},
   "outputs": [],
   "source": [
    "for index, row in constructor_results_df.iterrows():\n",
    "    constructor_results_uri = URIRef(F1['constructor_results/' + str(row['constructorResultsId'])])\n",
    "    g.add((constructor_results_uri, RDF.type, F1.ConstructorResults))\n",
    "    g.add((constructor_results_uri, F1.raceId, URIRef(F1['race/' + str(row['raceId'])])))\n",
    "    g.add((constructor_results_uri, F1.constructorId, URIRef(F1['constructor/' + str(row['constructorId'])])))\n",
    "    g.add((constructor_results_uri, F1.points, Literal(row['points'], datatype=XSD.float)))\n",
    "    if pd.notna(row['status']):\n",
    "        g.add((constructor_results_uri, F1.status, Literal(row['status'])))"
   ]
  },
  {
   "cell_type": "markdown",
   "id": "6ef3170a",
   "metadata": {},
   "source": [
    "<p style='text-align: center;'><b>6- constructor_standings_df</b></p>"
   ]
  },
  {
   "cell_type": "code",
   "execution_count": 9,
   "id": "006bd524",
   "metadata": {},
   "outputs": [],
   "source": [
    "for index, row in constructor_standings_df.iterrows():\n",
    "    constructor_standings_uri = URIRef(F1['constructor_standings/' + str(row['constructorStandingsId'])])\n",
    "    g.add((constructor_standings_uri, RDF.type, F1.ConstructorStandings))\n",
    "    g.add((constructor_standings_uri, F1.raceId, URIRef(F1['race/' + str(row['raceId'])])))\n",
    "    g.add((constructor_standings_uri, F1.constructorId, URIRef(F1['constructor/' + str(row['constructorId'])])))\n",
    "    g.add((constructor_standings_uri, F1.points, Literal(row['points'], datatype=XSD.float)))\n",
    "    g.add((constructor_standings_uri, F1.position, Literal(row['position'], datatype=XSD.integer)))\n",
    "    g.add((constructor_standings_uri, F1.positionText, Literal(row['positionText'])))\n",
    "    g.add((constructor_standings_uri, F1.wins, Literal(row['wins'], datatype=XSD.integer)))"
   ]
  },
  {
   "cell_type": "markdown",
   "id": "6523434b",
   "metadata": {},
   "source": [
    "<p style='text-align: center;'><b>7- driver_standings_df</b></p>"
   ]
  },
  {
   "cell_type": "code",
   "execution_count": 10,
   "id": "56c417c6",
   "metadata": {},
   "outputs": [],
   "source": [
    "for index, row in driver_standings_df.iterrows():\n",
    "    driver_standings_uri = URIRef(F1['driver_standings/' + str(row['driverStandingsId'])])\n",
    "    g.add((driver_standings_uri, RDF.type, F1.DriverStandings))\n",
    "    g.add((driver_standings_uri, F1.raceId, URIRef(F1['race/' + str(row['raceId'])])))\n",
    "    g.add((driver_standings_uri, F1.driverId, URIRef(F1['driver/' + str(row['driverId'])])))\n",
    "    g.add((driver_standings_uri, F1.points, Literal(row['points'], datatype=XSD.float)))\n",
    "    g.add((driver_standings_uri, F1.position, Literal(row['position'], datatype=XSD.integer)))\n",
    "    g.add((driver_standings_uri, F1.positionText, Literal(row['positionText'])))\n",
    "    g.add((driver_standings_uri, F1.wins, Literal(row['wins'], datatype=XSD.integer)))"
   ]
  },
  {
   "cell_type": "markdown",
   "id": "f5068be9",
   "metadata": {},
   "source": [
    "<p style='text-align: center;'><b>8- lap_times_df</b></p>"
   ]
  },
  {
   "cell_type": "code",
   "execution_count": 11,
   "id": "cb27b33a",
   "metadata": {},
   "outputs": [],
   "source": [
    "for index, row in lap_times_df.iterrows():\n",
    "    lap_times_uri = URIRef(F1['lap_times/' + str(row['lap'])])\n",
    "    g.add((lap_times_uri, RDF.type, F1.LapTimes))\n",
    "    g.add((lap_times_uri, F1.raceId, URIRef(F1['race/' + str(row['raceId'])])))\n",
    "    g.add((lap_times_uri, F1.driverId, URIRef(F1['driver/' + str(row['driverId'])])))\n",
    "    g.add((lap_times_uri, F1.lap, Literal(row['lap'], datatype=XSD.integer)))\n",
    "    g.add((lap_times_uri, F1.position, Literal(row['position'], datatype=XSD.integer)))\n",
    "    g.add((lap_times_uri, F1.time, Literal(convert_to_seconds(row['time']), datatype=XSD.integer)))\n",
    "    g.add((lap_times_uri, F1.milliseconds, Literal(row['milliseconds'], datatype=XSD.integer)))"
   ]
  },
  {
   "cell_type": "code",
   "execution_count": 12,
   "id": "ebe0f54b",
   "metadata": {},
   "outputs": [],
   "source": [
    "def convert_to_seconds_1(time_str):\n",
    "    parts = time_str.split(':')\n",
    "    if len(parts) == 3:\n",
    "        return round(int(parts[0]) * 3600 + int(parts[1]) * 60 + float(parts[2]), 3)\n",
    "    elif len(parts) == 2:\n",
    "        return round(int(parts[0]) * 60 + float(parts[1]), 3)\n",
    "    else:\n",
    "        return round(float(parts[0]), 3)"
   ]
  },
  {
   "cell_type": "markdown",
   "id": "43bfb24d",
   "metadata": {},
   "source": [
    "<p style='text-align: center;'><b>9- pit_stops_df</b></p>"
   ]
  },
  {
   "cell_type": "code",
   "execution_count": 13,
   "id": "e4a3bd27",
   "metadata": {},
   "outputs": [],
   "source": [
    "for index, row in pit_stops_df.iterrows():\n",
    "    pit_stops_uri = URIRef(F1['pit_stops/' + str(row['stop'])])\n",
    "    g.add((pit_stops_uri, RDF.type, F1.PitStops))\n",
    "    if pd.notna(row['raceId']):\n",
    "        g.add((pit_stops_uri, F1.raceId, URIRef(F1['race/' + str(row['raceId'])])))\n",
    "    if pd.notna(row['driverId']):\n",
    "        g.add((pit_stops_uri, F1.driverId, URIRef(F1['driver/' + str(row['driverId'])])))\n",
    "    if pd.notna(row['stop']):\n",
    "        g.add((pit_stops_uri, F1.stop, Literal(row['stop'], datatype=XSD.integer)))\n",
    "    if pd.notna(row['lap']):\n",
    "        g.add((pit_stops_uri, F1.lap, Literal(row['lap'], datatype=XSD.integer)))\n",
    "    if pd.notna(row['time']):\n",
    "        g.add((pit_stops_uri, F1.time, Literal(convert_to_seconds_1(row['time']), datatype=XSD.float)))\n",
    "    if pd.notna(row['duration']):\n",
    "        g.add((pit_stops_uri, F1.duration, Literal(convert_to_seconds_1(row['duration']), datatype=XSD.float)))\n",
    "    if pd.notna(row['milliseconds']):\n",
    "        g.add((pit_stops_uri, F1.milliseconds, Literal(row['milliseconds'], datatype=XSD.integer)))"
   ]
  },
  {
   "cell_type": "markdown",
   "id": "94e1e25d",
   "metadata": {},
   "source": [
    "<p style='text-align: center;'><b>10- races_df</b></p>"
   ]
  },
  {
   "cell_type": "code",
   "execution_count": 14,
   "id": "6fe9b910",
   "metadata": {},
   "outputs": [],
   "source": [
    "for index, row in races_df.iterrows():\n",
    "    race_uri = URIRef(F1['race/' + str(row['raceId'])])\n",
    "    g.add((race_uri, RDF.type, F1.Race))\n",
    "    g.add((race_uri, F1.year, Literal(row['year'], datatype=XSD.integer)))\n",
    "    g.add((race_uri, F1.round, Literal(row['round'], datatype=XSD.integer)))\n",
    "    g.add((race_uri, F1.circuitId, URIRef(F1['circuit/' + str(row['circuitId'])])))\n",
    "    g.add((race_uri, F1.name, Literal(row['name'])))\n",
    "    g.add((race_uri, F1.date, Literal(row['date'], datatype=XSD.date)))\n",
    "    if pd.notna(row['time']):\n",
    "        g.add((race_uri, F1.time, Literal(convert_to_seconds_1(row['time']), datatype=XSD.float)))\n",
    "    g.add((race_uri, F1.url, URIRef(row['url'])))\n",
    "    if pd.notna(row['fp1_date']):\n",
    "        g.add((race_uri, F1.time, Literal(row['fp1_date'], datatype=XSD.date)))\n",
    "    if pd.notna(row['fp1_time']):\n",
    "        g.add((race_uri, F1.time, Literal(convert_to_seconds_1(row['fp1_time']), datatype=XSD.float)))\n",
    "    if pd.notna(row['fp2_date']):\n",
    "        g.add((race_uri, F1.time, Literal(row['fp2_date'], datatype=XSD.date)))\n",
    "    if pd.notna(row['fp2_time']):\n",
    "        g.add((race_uri, F1.time, Literal(convert_to_seconds_1(row['fp2_time']), datatype=XSD.float)))\n",
    "    if pd.notna(row['fp3_date']):\n",
    "        g.add((race_uri, F1.time, Literal(row['fp3_date'], datatype=XSD.date)))\n",
    "    if pd.notna(row['fp3_time']):\n",
    "        g.add((race_uri, F1.time, Literal(convert_to_seconds_1(row['fp3_time']), datatype=XSD.float)))\n",
    "    if pd.notna(row['quali_date']):\n",
    "        g.add((race_uri, F1.time, Literal(row['quali_date'], datatype=XSD.date)))\n",
    "    if pd.notna(row['quali_time']):\n",
    "        g.add((race_uri, F1.time, Literal(convert_to_seconds_1(row['quali_time']), datatype=XSD.float)))\n",
    "    if pd.notna(row['sprint_date']):\n",
    "        g.add((race_uri, F1.time, Literal(row['sprint_date'], datatype=XSD.date)))\n",
    "    if pd.notna(row['sprint_time']):\n",
    "        g.add((race_uri, F1.time, Literal(convert_to_seconds_1(row['sprint_time']), datatype=XSD.float)))"
   ]
  },
  {
   "cell_type": "markdown",
   "id": "acc0b32a",
   "metadata": {},
   "source": [
    "<p style='text-align: center;'><b>11- results_df</b></p>"
   ]
  },
  {
   "cell_type": "code",
   "execution_count": 15,
   "id": "fd45723f",
   "metadata": {},
   "outputs": [],
   "source": [
    "for index, row in results_df.iterrows():\n",
    "    result_uri = URIRef(F1['result/' + str(row['resultId'])])\n",
    "    g.add((result_uri, RDF.type, F1.Result))\n",
    "    g.add((result_uri, F1.raceId, URIRef(F1['race/' + str(row['raceId'])])))\n",
    "    g.add((result_uri, F1.driverId, URIRef(F1['driver/' + str(row['driverId'])])))\n",
    "    g.add((result_uri, F1.constructorId, URIRef(F1['constructor/' + str(row['constructorId'])])))\n",
    "    if pd.notna(row['number']):\n",
    "        g.add((result_uri, F1.number, Literal(row['number'], datatype=XSD.integer)))\n",
    "    g.add((result_uri, F1.grid, Literal(row['grid'], datatype=XSD.integer)))\n",
    "    if pd.notna(row['position']):\n",
    "        g.add((result_uri, F1.position, Literal(row['position'], datatype=XSD.integer)))\n",
    "    g.add((result_uri, F1.positionText, Literal(row['positionText'])))\n",
    "    g.add((result_uri, F1.positionOrder, Literal(row['positionOrder'], datatype=XSD.integer)))\n",
    "    g.add((result_uri, F1.points, Literal(row['points'], datatype=XSD.float)))\n",
    "    g.add((result_uri, F1.laps, Literal(row['laps'], datatype=XSD.integer)))\n",
    "    if pd.notna(row['time']):\n",
    "        g.add((result_uri, F1.time, Literal(convert_to_seconds_1(row['time']), datatype=XSD.float)))\n",
    "    if pd.notna(row['milliseconds']):\n",
    "        g.add((result_uri, F1.milliseconds, Literal(row['milliseconds'], datatype=XSD.integer)))\n",
    "    if pd.notna(row['fastestLap']):\n",
    "        g.add((result_uri, F1.fastestLap, Literal(row['fastestLap'], datatype=XSD.integer)))\n",
    "    if pd.notna(row['rank']):\n",
    "        g.add((result_uri, F1.rank, Literal(row['rank'], datatype=XSD.integer)))\n",
    "    if pd.notna(row['fastestLapTime']):\n",
    "        g.add((result_uri, F1.fastestLapTime, Literal(convert_to_seconds_1(row['fastestLapTime']), datatype=XSD.float)))\n",
    "    if pd.notna(row['fastestLapSpeed']):\n",
    "        g.add((result_uri, F1.fastestLapSpeed, Literal(row['fastestLapSpeed'], datatype=XSD.float)))\n",
    "    g.add((result_uri, F1.statusId, URIRef(F1['status/' + str(row['statusId'])])))"
   ]
  },
  {
   "cell_type": "markdown",
   "id": "4ece4088",
   "metadata": {},
   "source": [
    "<p style='text-align: center;'><b>12- seasons_df</b></p>"
   ]
  },
  {
   "cell_type": "code",
   "execution_count": 16,
   "id": "604aaf83",
   "metadata": {},
   "outputs": [],
   "source": [
    "for index, row in seasons_df.iterrows():\n",
    "    season_uri = URIRef(F1['season/' + str(row['year'])])\n",
    "    g.add((season_uri, RDF.type, F1.Season))\n",
    "    g.add((season_uri, F1.year, Literal(row['year'], datatype=XSD.integer)))\n",
    "    g.add((season_uri, F1.url, URIRef(row['url'])))"
   ]
  },
  {
   "cell_type": "markdown",
   "id": "93667805",
   "metadata": {},
   "source": [
    "<p style='text-align: center;'><b>13- sprint_results_df</b></p>"
   ]
  },
  {
   "cell_type": "code",
   "execution_count": 17,
   "id": "c43d0797",
   "metadata": {},
   "outputs": [],
   "source": [
    "for index, row in sprint_results_df.iterrows():\n",
    "    sprint_result_uri = URIRef(F1['sprint_result/' + str(row['resultId'])])\n",
    "    g.add((sprint_result_uri, RDF.type, F1.SprintResult))\n",
    "    g.add((sprint_result_uri, F1.raceId, URIRef(F1['race/' + str(row['raceId'])])))\n",
    "    g.add((sprint_result_uri, F1.driverId, URIRef(F1['driver/' + str(row['driverId'])])))\n",
    "    g.add((sprint_result_uri, F1.constructorId, URIRef(F1['constructor/' + str(row['constructorId'])])))\n",
    "    g.add((sprint_result_uri, F1.number, Literal(row['number'], datatype=XSD.integer)))\n",
    "    g.add((sprint_result_uri, F1.grid, Literal(row['grid'], datatype=XSD.integer)))\n",
    "    if pd.notna(row['position']):\n",
    "        g.add((sprint_result_uri, F1.position, Literal(row['position'], datatype=XSD.integer)))\n",
    "    g.add((sprint_result_uri, F1.positionText, Literal(row['positionText'])))\n",
    "    g.add((sprint_result_uri, F1.positionOrder, Literal(row['positionOrder'], datatype=XSD.integer)))\n",
    "    g.add((sprint_result_uri, F1.points, Literal(row['points'], datatype=XSD.float)))\n",
    "    g.add((sprint_result_uri, F1.laps, Literal(row['laps'], datatype=XSD.integer)))\n",
    "    if pd.notna(row['time']):\n",
    "        g.add((sprint_result_uri, F1.time, Literal(convert_to_seconds_1(row['time']), datatype=XSD.float)))\n",
    "    if pd.notna(row['milliseconds']):\n",
    "        g.add((sprint_result_uri, F1.milliseconds, Literal(row['milliseconds'], datatype=XSD.integer)))\n",
    "    if pd.notna(row['fastestLap']):\n",
    "        g.add((sprint_result_uri, F1.fastestLap, Literal(row['fastestLap'], datatype=XSD.integer)))\n",
    "    if pd.notna(row['fastestLapTime']):\n",
    "        g.add((sprint_result_uri, F1.fastestLapTime, Literal(convert_to_seconds_1(row['fastestLapTime']), datatype=XSD.float)))\n",
    "    g.add((sprint_result_uri, F1.statusId, URIRef(F1['status/' + str(row['statusId'])])))"
   ]
  },
  {
   "cell_type": "markdown",
   "id": "97745833",
   "metadata": {},
   "source": [
    "<p style='text-align: center;'><b>14- status_df</b></p>"
   ]
  },
  {
   "cell_type": "code",
   "execution_count": 18,
   "id": "c543a57f",
   "metadata": {},
   "outputs": [],
   "source": [
    "for index, row in status_df.iterrows():\n",
    "    status_uri = URIRef(F1['status/' + str(row['statusId'])])\n",
    "    g.add((status_uri, RDF.type, F1.Status))\n",
    "    g.add((status_uri, F1.status, Literal(row['status'])))\n"
   ]
  },
  {
   "cell_type": "code",
   "execution_count": 19,
   "id": "a7e2dab3",
   "metadata": {},
   "outputs": [
    {
     "data": {
      "text/plain": [
       "<Graph identifier=N342a474deba04e9eb48003bd460373b6 (<class 'rdflib.graph.Graph'>)>"
      ]
     },
     "execution_count": 19,
     "metadata": {},
     "output_type": "execute_result"
    }
   ],
   "source": [
    "g.serialize('f1_data.rdf', format='turtle')"
   ]
  },
  {
   "cell_type": "markdown",
   "id": "a83adc4f",
   "metadata": {},
   "source": [
    "#  Classes and Properties"
   ]
  },
  {
   "cell_type": "code",
   "execution_count": 20,
   "id": "f1791fd2",
   "metadata": {},
   "outputs": [],
   "source": [
    "# Class Definitions\n",
    "RACE = F1['Race']\n",
    "DRIVER = F1['Driver']\n",
    "TEAM = F1['Team']\n",
    "CIRCUIT = F1['Circuit']\n",
    "RACE_PARTICIPATION = F1['RaceParticipation']\n",
    "RACE_SEASON = F1['RaceSeason']\n",
    "CONSTRUCTOR = F1['Constructor'] \n",
    "QualifiedForQ2 = F1[\"QualifiedForQ2\"]\n",
    "QualifiedForQ3 = F1[\"QualifiedForQ3\"]\n",
    "ChampionDriver = F1[\"ChampionDriver\"]\n",
    "\n",
    "# Declare classes as RDF classes\n",
    "for cls in [RACE, DRIVER, TEAM, CIRCUIT, RACE_PARTICIPATION, RACE_SEASON, CONSTRUCTOR, QualifiedForQ2, \n",
    "            QualifiedForQ3, ChampionDriver]:\n",
    "    g.add((cls, RDF.type, OWL.Class))\n",
    "\n",
    "# Property Definitions\n",
    "HAS_DRIVER = F1['hasDriver']\n",
    "HAS_TEAM = F1['hasTeam']\n",
    "HAS_CIRCUIT = F1['hasCircuit']\n",
    "HAS_POSITION = F1['hasPosition']\n",
    "HAS_POINTS = F1['hasPoints']\n",
    "DRIVER_PARTICIPATES_IN_RACE = F1['driverParticipatesInRace']\n",
    "RACE_INCLUDES_DRIVER = F1['raceIncludesDriver']\n",
    "TEAMMATE_OF = F1['teammateOf']\n",
    "ANCESTOR_TEAM_OF = F1['ancestorTeamOf']\n",
    "Q1_TIME = F1[\"q1\"]\n",
    "Q2_TIME = F1[\"q2\"]\n",
    "POSITION = F1[\"position\"]\n",
    "\n",
    "for prop in [HAS_DRIVER, HAS_TEAM, HAS_CIRCUIT, HAS_POSITION, HAS_POINTS, \n",
    "             DRIVER_PARTICIPATES_IN_RACE, RACE_INCLUDES_DRIVER, TEAMMATE_OF, ANCESTOR_TEAM_OF, Q1_TIME,\n",
    "             Q2_TIME, POSITION]:\n",
    "    g.add((prop, RDF.type, RDF.Property))"
   ]
  },
  {
   "cell_type": "markdown",
   "id": "d6f0ae83",
   "metadata": {},
   "source": [
    "## RDFS Axioms"
   ]
  },
  {
   "cell_type": "code",
   "execution_count": 21,
   "id": "31755a7a",
   "metadata": {},
   "outputs": [
    {
     "ename": "NameError",
     "evalue": "name 'rdflib' is not defined",
     "output_type": "error",
     "traceback": [
      "\u001b[1;31m---------------------------------------------------------------------------\u001b[0m",
      "\u001b[1;31mNameError\u001b[0m                                 Traceback (most recent call last)",
      "\u001b[1;32m~\\AppData\\Local\\Temp\\ipykernel_16052\\2888829908.py\u001b[0m in \u001b[0;36m<module>\u001b[1;34m\u001b[0m\n\u001b[0;32m     14\u001b[0m \u001b[0mq2_qualification_restriction\u001b[0m \u001b[1;33m=\u001b[0m \u001b[0mBNode\u001b[0m\u001b[1;33m(\u001b[0m\u001b[1;33m)\u001b[0m\u001b[1;33m\u001b[0m\u001b[1;33m\u001b[0m\u001b[0m\n\u001b[0;32m     15\u001b[0m \u001b[0mg\u001b[0m\u001b[1;33m.\u001b[0m\u001b[0madd\u001b[0m\u001b[1;33m(\u001b[0m\u001b[1;33m(\u001b[0m\u001b[0mq2_qualification_restriction\u001b[0m\u001b[1;33m,\u001b[0m \u001b[0mOWL\u001b[0m\u001b[1;33m.\u001b[0m\u001b[0monProperty\u001b[0m\u001b[1;33m,\u001b[0m \u001b[0mQ1_TIME\u001b[0m\u001b[1;33m)\u001b[0m\u001b[1;33m)\u001b[0m\u001b[1;33m\u001b[0m\u001b[1;33m\u001b[0m\u001b[0m\n\u001b[1;32m---> 16\u001b[1;33m \u001b[0mg\u001b[0m\u001b[1;33m.\u001b[0m\u001b[0madd\u001b[0m\u001b[1;33m(\u001b[0m\u001b[1;33m(\u001b[0m\u001b[0mq2_qualification_restriction\u001b[0m\u001b[1;33m,\u001b[0m \u001b[0mOWL\u001b[0m\u001b[1;33m.\u001b[0m\u001b[0msomeValuesFrom\u001b[0m\u001b[1;33m,\u001b[0m \u001b[0mrdflib\u001b[0m\u001b[1;33m.\u001b[0m\u001b[0mXSD\u001b[0m\u001b[1;33m.\u001b[0m\u001b[0minteger\u001b[0m\u001b[1;33m)\u001b[0m\u001b[1;33m)\u001b[0m\u001b[1;33m\u001b[0m\u001b[1;33m\u001b[0m\u001b[0m\n\u001b[0m\u001b[0;32m     17\u001b[0m \u001b[0mg\u001b[0m\u001b[1;33m.\u001b[0m\u001b[0madd\u001b[0m\u001b[1;33m(\u001b[0m\u001b[1;33m(\u001b[0m\u001b[0mQualifiedForQ2\u001b[0m\u001b[1;33m,\u001b[0m \u001b[0mOWL\u001b[0m\u001b[1;33m.\u001b[0m\u001b[0mequivalentClass\u001b[0m\u001b[1;33m,\u001b[0m \u001b[0mq2_qualification_restriction\u001b[0m\u001b[1;33m)\u001b[0m\u001b[1;33m)\u001b[0m\u001b[1;33m\u001b[0m\u001b[1;33m\u001b[0m\u001b[0m\n\u001b[0;32m     18\u001b[0m \u001b[1;33m\u001b[0m\u001b[0m\n",
      "\u001b[1;31mNameError\u001b[0m: name 'rdflib' is not defined"
     ]
    }
   ],
   "source": [
    "# Every driver is a person\n",
    "g.add((DRIVER, RDFS.subClassOf, FOAF.Person))\n",
    "\n",
    "# Every team is a constructor\n",
    "g.add((TEAM, RDFS.subClassOf, F1.Constructor))\n",
    "\n",
    "# Every race is an event\n",
    "g.add((RACE, RDFS.subClassOf, dbo.Event))\n",
    "g.add((RACE, RDFS.subClassOf, dbo.Event))\n",
    "g.add((RACE_PARTICIPATION, RDFS.subClassOf, dbo.Event))\n",
    "g.add((RACE_SEASON, RDF.type, OWL.Class))\n",
    "\n",
    "#a driver qualified for Q2 and Q3 has a Q1 and Q2 time respectively\n",
    "q2_qualification_restriction = BNode()\n",
    "g.add((q2_qualification_restriction, OWL.onProperty, Q1_TIME))\n",
    "g.add((q2_qualification_restriction, OWL.someValuesFrom, rdflib.XSD.integer))\n",
    "g.add((QualifiedForQ2, OWL.equivalentClass, q2_qualification_restriction))\n",
    "\n",
    "q3_qualification_restriction = BNode()\n",
    "g.add((q3_qualification_restriction, OWL.onProperty, Q2_TIME))\n",
    "g.add((q3_qualification_restriction, OWL.someValuesFrom, rdflib.XSD.integer))\n",
    "g.add((QualifiedForQ3, OWL.equivalentClass, q3_qualification_restriction))\n",
    "\n",
    "\n",
    "# Every race participation involves a driver, a team, and a circuit\n",
    "g.add((RACE_PARTICIPATION, RDFS.domain, RACE))\n",
    "g.add((HAS_DRIVER, RDFS.domain, RACE_PARTICIPATION))\n",
    "g.add((HAS_DRIVER, RDFS.range, DRIVER))\n",
    "g.add((HAS_TEAM, RDFS.domain, RACE_PARTICIPATION))\n",
    "g.add((HAS_TEAM, RDFS.range, TEAM))\n",
    "g.add((HAS_CIRCUIT, RDFS.domain, RACE_PARTICIPATION))\n",
    "g.add((HAS_CIRCUIT, RDFS.range, CIRCUIT))\n",
    "\n",
    "# Every race participation has a position and points\n",
    "g.add((HAS_POSITION, RDFS.domain, RACE_PARTICIPATION))\n",
    "g.add((HAS_POSITION, RDFS.range, XSD.integer))\n",
    "g.add((HAS_POINTS, RDFS.domain, RACE_PARTICIPATION))\n",
    "g.add((HAS_POINTS, RDFS.range, XSD.float))"
   ]
  },
  {
   "cell_type": "markdown",
   "id": "5044aa73",
   "metadata": {},
   "source": [
    "## OWL Axioms "
   ]
  },
  {
   "cell_type": "code",
   "execution_count": null,
   "id": "897364e8",
   "metadata": {},
   "outputs": [],
   "source": [
    "# Assuming F1.Constructor is defined and equivalent to F1.Team\n",
    "g.add((F1.Constructor, OWL.equivalentClass, F1.Team))\n",
    "\n",
    "\n",
    "# date of birtH of each drive is unique\n",
    "g.add((FOAF.birthday, RDF.type, OWL.FunctionalProperty)\n",
    "g.add(FOAF.homepage, RDF.type, OWL.FunctionalProperty)\n",
    "\n",
    "# inverse Properties\n",
    "g.add((DRIVER_PARTICIPATES_IN_RACE, OWL.inverseOf, RACE_INCLUDES_DRIVER))\n",
    "g.add((RACE_INCLUDES_DRIVER, OWL.inverseOf, DRIVER_PARTICIPATES_IN_RACE))\n",
    "\n",
    "# Symmetric and Transitive Properties\n",
    "g.add((TEAMMATE_OF, RDF.type, OWL.SymmetricProperty))\n",
    "#  historical evolution of F1 teams due to various reasons such as rebranding, ownership changes, or mergers. \n",
    "# Jordan Grand Prix -> Midland F1 Racing -> Spyker F1 -> Force India -> Racing Point/ Aston Martin      \n",
    "g.add((ANCESTOR_TEAM_OF, RDF.type, OWL.TransitiveProperty)) \n",
    "\n",
    "# OWL Restrictions\n",
    "# restriction: RaceParticipation must have exactly one Driver, Team, and Circuit\n",
    "race_participation_restriction = BNode()\n",
    "g.add((race_participation_restriction, OWL.onProperty, HAS_DRIVER))\n",
    "g.add((race_participation_restriction, OWL.cardinality, Literal(1, datatype=XSD.integer)))\n",
    "g.add((RACE_PARTICIPATION, OWL.equivalentClass, race_participation_restriction))\n",
    "\n",
    "team_restriction = BNode()\n",
    "g.add((team_restriction, OWL.onProperty, HAS_TEAM))\n",
    "g.add((team_restriction, OWL.cardinality, Literal(1, datatype=XSD.integer)))\n",
    "g.add((RACE_PARTICIPATION, OWL.equivalentClass, team_restriction))\n",
    "\n",
    "circuit_restriction = BNode()\n",
    "g.add((circuit_restriction, OWL.onProperty, HAS_CIRCUIT))\n",
    "g.add((circuit_restriction, OWL.cardinality, Literal(1, datatype=XSD.integer)))\n",
    "g.add((RACE_PARTICIPATION, OWL.equivalentClass, circuit_restriction))\n",
    "\n",
    "# Cardinality Constraints\n",
    "# Constraint: A driver participates in at least one race\n",
    "driver_constraint = BNode()\n",
    "g.add((driver_constraint, OWL.onProperty, DRIVER_PARTICIPATES_IN_RACE))\n",
    "g.add((driver_constraint, OWL.minCardinality, Literal(1, datatype=XSD.integer)))\n",
    "g.add((DRIVER, OWL.equivalentClass, driver_constraint))\n",
    "      \n",
    "      \n",
    "# Team must have at least two drivers (typical in F1) - using OWL.minCardinality\n",
    "team_driver_restriction = BNode()\n",
    "g.add((team_driver_restriction, OWL.onProperty, F1.hasDriver))\n",
    "g.add((team_driver_restriction, OWL.minCardinality, Literal(2, datatype=XSD.integer)))\n",
    "g.add((F1.Team, OWL.equivalentClass, team_driver_restriction))      \n",
    "      \n",
    "# First-place finish restriction\n",
    "first_place_restriction = BNode()\n",
    "g.add((first_place_restriction, OWL.onProperty, POSITION))\n",
    "g.add((first_place_restriction, OWL.hasValue, Literal(1, datatype=rdflib.XSD.integer)))\n",
    "\n",
    "\n",
    "# ChampionDriver class definition\n",
    "# A ChampionDriver is someone who has a first-place finish and is qualified for Q3\n",
    "champion_restriction = BNode()\n",
    "g.add((champion_restriction, OWL.intersectionOf, rdflib.Collection([first_place_restriction, QualifiedForQ3])))\n",
    "g.add((ChampionDriver, OWL.equivalentClass, champion_restriction))"
   ]
  },
  {
   "cell_type": "code",
   "execution_count": null,
   "id": "ef1297a6",
   "metadata": {},
   "outputs": [],
   "source": [
    "# from rdflib import OWL\n",
    "\n",
    "# #Every driver is distinct from every other driver:\n",
    "# g.add((F1.Driver, OWL.distinctMembers, Literal(True, datatype=XSD.boolean)))\n",
    "\n",
    "# #Every team is distinct from every other team:\n",
    "# g.add((F1.Team, OWL.distinctMembers, Literal(True, datatype=XSD.boolean)))\n",
    "\n",
    "# #Every race is distinct from every other race:\n",
    "# g.add((F1.Race, OWL.distinctMembers, Literal(True, datatype=XSD.boolean)))\n",
    "\n",
    "# #A driver can only have one nationality:\n",
    "# g.add((F1.driverId, RDF.type, OWL.FunctionalProperty))\n",
    "\n",
    "# # A race can only have one circuit:\n",
    "# g.add((F1.raceId, RDF.type, OWL.FunctionalProperty))\n"
   ]
  },
  {
   "cell_type": "code",
   "execution_count": null,
   "id": "ed4c3dd4",
   "metadata": {},
   "outputs": [],
   "source": [
    "g.serialize('f1_data.rdf', format='turtle')"
   ]
  }
 ],
 "metadata": {
  "kernelspec": {
   "display_name": "Python 3 (ipykernel)",
   "language": "python",
   "name": "python3"
  },
  "language_info": {
   "codemirror_mode": {
    "name": "ipython",
    "version": 3
   },
   "file_extension": ".py",
   "mimetype": "text/x-python",
   "name": "python",
   "nbconvert_exporter": "python",
   "pygments_lexer": "ipython3",
   "version": "3.9.13"
  }
 },
 "nbformat": 4,
 "nbformat_minor": 5
}
