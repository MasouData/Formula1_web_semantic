{
 "cells": [
  {
   "cell_type": "code",
   "execution_count": 4,
   "id": "2189d899",
   "metadata": {},
   "outputs": [
    {
     "data": {
      "text/html": [
       "<div>\n",
       "<style scoped>\n",
       "    .dataframe tbody tr th:only-of-type {\n",
       "        vertical-align: middle;\n",
       "    }\n",
       "\n",
       "    .dataframe tbody tr th {\n",
       "        vertical-align: top;\n",
       "    }\n",
       "\n",
       "    .dataframe thead th {\n",
       "        text-align: right;\n",
       "    }\n",
       "</style>\n",
       "<table border=\"1\" class=\"dataframe\">\n",
       "  <thead>\n",
       "    <tr style=\"text-align: right;\">\n",
       "      <th></th>\n",
       "      <th>driverId</th>\n",
       "      <th>driverRef</th>\n",
       "      <th>number</th>\n",
       "      <th>code</th>\n",
       "      <th>forename</th>\n",
       "      <th>surname</th>\n",
       "      <th>dob</th>\n",
       "      <th>nationality</th>\n",
       "      <th>url</th>\n",
       "    </tr>\n",
       "  </thead>\n",
       "  <tbody>\n",
       "    <tr>\n",
       "      <th>0</th>\n",
       "      <td>1</td>\n",
       "      <td>hamilton</td>\n",
       "      <td>44</td>\n",
       "      <td>HAM</td>\n",
       "      <td>Lewis</td>\n",
       "      <td>Hamilton</td>\n",
       "      <td>1985-01-07</td>\n",
       "      <td>British</td>\n",
       "      <td>http://en.wikipedia.org/wiki/Lewis_Hamilton</td>\n",
       "    </tr>\n",
       "    <tr>\n",
       "      <th>1</th>\n",
       "      <td>2</td>\n",
       "      <td>heidfeld</td>\n",
       "      <td>\\N</td>\n",
       "      <td>HEI</td>\n",
       "      <td>Nick</td>\n",
       "      <td>Heidfeld</td>\n",
       "      <td>1977-05-10</td>\n",
       "      <td>German</td>\n",
       "      <td>http://en.wikipedia.org/wiki/Nick_Heidfeld</td>\n",
       "    </tr>\n",
       "    <tr>\n",
       "      <th>2</th>\n",
       "      <td>3</td>\n",
       "      <td>rosberg</td>\n",
       "      <td>6</td>\n",
       "      <td>ROS</td>\n",
       "      <td>Nico</td>\n",
       "      <td>Rosberg</td>\n",
       "      <td>1985-06-27</td>\n",
       "      <td>German</td>\n",
       "      <td>http://en.wikipedia.org/wiki/Nico_Rosberg</td>\n",
       "    </tr>\n",
       "    <tr>\n",
       "      <th>3</th>\n",
       "      <td>4</td>\n",
       "      <td>alonso</td>\n",
       "      <td>14</td>\n",
       "      <td>ALO</td>\n",
       "      <td>Fernando</td>\n",
       "      <td>Alonso</td>\n",
       "      <td>1981-07-29</td>\n",
       "      <td>Spanish</td>\n",
       "      <td>http://en.wikipedia.org/wiki/Fernando_Alonso</td>\n",
       "    </tr>\n",
       "    <tr>\n",
       "      <th>4</th>\n",
       "      <td>5</td>\n",
       "      <td>kovalainen</td>\n",
       "      <td>\\N</td>\n",
       "      <td>KOV</td>\n",
       "      <td>Heikki</td>\n",
       "      <td>Kovalainen</td>\n",
       "      <td>1981-10-19</td>\n",
       "      <td>Finnish</td>\n",
       "      <td>http://en.wikipedia.org/wiki/Heikki_Kovalainen</td>\n",
       "    </tr>\n",
       "  </tbody>\n",
       "</table>\n",
       "</div>"
      ],
      "text/plain": [
       "   driverId   driverRef number code  forename     surname         dob  \\\n",
       "0         1    hamilton     44  HAM     Lewis    Hamilton  1985-01-07   \n",
       "1         2    heidfeld     \\N  HEI      Nick    Heidfeld  1977-05-10   \n",
       "2         3     rosberg      6  ROS      Nico     Rosberg  1985-06-27   \n",
       "3         4      alonso     14  ALO  Fernando      Alonso  1981-07-29   \n",
       "4         5  kovalainen     \\N  KOV    Heikki  Kovalainen  1981-10-19   \n",
       "\n",
       "  nationality                                             url  \n",
       "0     British     http://en.wikipedia.org/wiki/Lewis_Hamilton  \n",
       "1      German      http://en.wikipedia.org/wiki/Nick_Heidfeld  \n",
       "2      German       http://en.wikipedia.org/wiki/Nico_Rosberg  \n",
       "3     Spanish    http://en.wikipedia.org/wiki/Fernando_Alonso  \n",
       "4     Finnish  http://en.wikipedia.org/wiki/Heikki_Kovalainen  "
      ]
     },
     "execution_count": 4,
     "metadata": {},
     "output_type": "execute_result"
    }
   ],
   "source": [
    "import pandas as pd\n",
    "\n",
    "drivers_df = pd.read_csv('drivers.csv')\n",
    "drivers_df.head()"
   ]
  },
  {
   "cell_type": "code",
   "execution_count": 24,
   "id": "ff404d8d",
   "metadata": {},
   "outputs": [
    {
     "data": {
      "text/html": [
       "<div>\n",
       "<style scoped>\n",
       "    .dataframe tbody tr th:only-of-type {\n",
       "        vertical-align: middle;\n",
       "    }\n",
       "\n",
       "    .dataframe tbody tr th {\n",
       "        vertical-align: top;\n",
       "    }\n",
       "\n",
       "    .dataframe thead th {\n",
       "        text-align: right;\n",
       "    }\n",
       "</style>\n",
       "<table border=\"1\" class=\"dataframe\">\n",
       "  <thead>\n",
       "    <tr style=\"text-align: right;\">\n",
       "      <th></th>\n",
       "      <th>qualifyId</th>\n",
       "      <th>raceId</th>\n",
       "      <th>driverId</th>\n",
       "      <th>constructorId</th>\n",
       "      <th>number</th>\n",
       "      <th>position</th>\n",
       "      <th>q1</th>\n",
       "      <th>q2</th>\n",
       "      <th>q3</th>\n",
       "    </tr>\n",
       "  </thead>\n",
       "  <tbody>\n",
       "    <tr>\n",
       "      <th>0</th>\n",
       "      <td>1</td>\n",
       "      <td>18</td>\n",
       "      <td>1</td>\n",
       "      <td>1</td>\n",
       "      <td>22</td>\n",
       "      <td>1</td>\n",
       "      <td>1:26.572</td>\n",
       "      <td>1:25.187</td>\n",
       "      <td>1:26.714</td>\n",
       "    </tr>\n",
       "    <tr>\n",
       "      <th>1</th>\n",
       "      <td>2</td>\n",
       "      <td>18</td>\n",
       "      <td>9</td>\n",
       "      <td>2</td>\n",
       "      <td>4</td>\n",
       "      <td>2</td>\n",
       "      <td>1:26.103</td>\n",
       "      <td>1:25.315</td>\n",
       "      <td>1:26.869</td>\n",
       "    </tr>\n",
       "    <tr>\n",
       "      <th>2</th>\n",
       "      <td>3</td>\n",
       "      <td>18</td>\n",
       "      <td>5</td>\n",
       "      <td>1</td>\n",
       "      <td>23</td>\n",
       "      <td>3</td>\n",
       "      <td>1:25.664</td>\n",
       "      <td>1:25.452</td>\n",
       "      <td>1:27.079</td>\n",
       "    </tr>\n",
       "    <tr>\n",
       "      <th>3</th>\n",
       "      <td>4</td>\n",
       "      <td>18</td>\n",
       "      <td>13</td>\n",
       "      <td>6</td>\n",
       "      <td>2</td>\n",
       "      <td>4</td>\n",
       "      <td>1:25.994</td>\n",
       "      <td>1:25.691</td>\n",
       "      <td>1:27.178</td>\n",
       "    </tr>\n",
       "    <tr>\n",
       "      <th>4</th>\n",
       "      <td>5</td>\n",
       "      <td>18</td>\n",
       "      <td>2</td>\n",
       "      <td>2</td>\n",
       "      <td>3</td>\n",
       "      <td>5</td>\n",
       "      <td>1:25.960</td>\n",
       "      <td>1:25.518</td>\n",
       "      <td>1:27.236</td>\n",
       "    </tr>\n",
       "  </tbody>\n",
       "</table>\n",
       "</div>"
      ],
      "text/plain": [
       "   qualifyId  raceId  driverId  constructorId  number  position        q1  \\\n",
       "0          1      18         1              1      22         1  1:26.572   \n",
       "1          2      18         9              2       4         2  1:26.103   \n",
       "2          3      18         5              1      23         3  1:25.664   \n",
       "3          4      18        13              6       2         4  1:25.994   \n",
       "4          5      18         2              2       3         5  1:25.960   \n",
       "\n",
       "         q2        q3  \n",
       "0  1:25.187  1:26.714  \n",
       "1  1:25.315  1:26.869  \n",
       "2  1:25.452  1:27.079  \n",
       "3  1:25.691  1:27.178  \n",
       "4  1:25.518  1:27.236  "
      ]
     },
     "execution_count": 24,
     "metadata": {},
     "output_type": "execute_result"
    }
   ],
   "source": [
    "qualifying_df = pd.read_csv('qualifying.csv')\n",
    "qualifying_df.head()"
   ]
  },
  {
   "cell_type": "markdown",
   "id": "c3540c21",
   "metadata": {},
   "source": [
    "<h2>Data Cleaning</h2>"
   ]
  },
  {
   "cell_type": "code",
   "execution_count": 25,
   "id": "944f6689",
   "metadata": {},
   "outputs": [],
   "source": [
    "# Replace '\\N' with None \n",
    "drivers_df.replace('\\\\N', None, inplace=True)\n",
    "qualifying_df.replace('\\\\N', None, inplace=True) "
   ]
  },
  {
   "cell_type": "markdown",
   "id": "f4c02490",
   "metadata": {},
   "source": [
    "<h2>Convert to RDF</h2>"
   ]
  },
  {
   "cell_type": "code",
   "execution_count": 28,
   "id": "d8f25ce8",
   "metadata": {},
   "outputs": [],
   "source": [
    "from rdflib import Graph, URIRef, Literal, Namespace, RDF, XSD\n",
    "\n",
    "g = Graph()\n",
    "\n",
    "F1 = Namespace('http://example.com/f1/')\n",
    "\n",
    "for index, row in drivers_df.iterrows():\n",
    "    driver_uri = URIRef(F1['driver/' + str(row['driverId'])])\n",
    "    g.add((driver_uri, RDF.type, F1.Driver))\n",
    "    g.add((driver_uri, F1.driverRef, Literal(row['driverRef'])))\n",
    "    g.add((driver_uri, F1.number, Literal(row['number'])))\n",
    "    g.add((driver_uri, F1.code, Literal(row['code'])))\n",
    "    g.add((driver_uri, F1.forename, Literal(row['forename'])))\n",
    "    g.add((driver_uri, F1.surname, Literal(row['surname'])))\n",
    "    g.add((driver_uri, F1.dob, Literal(row['dob'])))\n",
    "    g.add((driver_uri, F1.nationality, Literal(row['nationality'])))\n",
    "    g.add((driver_uri, F1.url, Literal(row['url'])))"
   ]
  },
  {
   "cell_type": "code",
   "execution_count": 29,
   "id": "b4eee8af",
   "metadata": {},
   "outputs": [
    {
     "data": {
      "text/plain": [
       "<Graph identifier=N93d89e5fe04b4b3691267fbc5eb50fea (<class 'rdflib.graph.Graph'>)>"
      ]
     },
     "execution_count": 29,
     "metadata": {},
     "output_type": "execute_result"
    }
   ],
   "source": [
    "for index, row in qualifying_df.iterrows():\n",
    "    qualifying_uri = URIRef(F1['qualifying/' + str(row['qualifyId'])])\n",
    "    g.add((qualifying_uri, RDF.type, F1.Qualifying))\n",
    "    g.add((qualifying_uri, F1.raceId, Literal(row['raceId'], datatype=XSD.integer)))\n",
    "    g.add((qualifying_uri, F1.driverId, URIRef(F1['driver/' + str(row['driverId'])])))\n",
    "    g.add((qualifying_uri, F1.constructorId, URIRef(F1['constructor/' + str(row['constructorId'])])))\n",
    "    g.add((qualifying_uri, F1.number, Literal(row['number'])))\n",
    "    g.add((qualifying_uri, F1.position, Literal(row['position'], datatype=XSD.integer)))\n",
    "    # Add more properties as needed\n",
    "    # You can also convert time values to appropriate formats and datatypes\n",
    "    # For example, convert '01:26.6' to XSD.duration or XSD.dateTime\n",
    "\n",
    "# Serialize RDF Data\n",
    "g.serialize('f1_data.rdf', format='turtle')\n"
   ]
  },
  {
   "cell_type": "markdown",
   "id": "6639e065",
   "metadata": {},
   "source": [
    "<h2>Save RDF Data:</h2>"
   ]
  },
  {
   "cell_type": "code",
   "execution_count": 30,
   "id": "f7623e93",
   "metadata": {},
   "outputs": [
    {
     "data": {
      "text/plain": [
       "<Graph identifier=N93d89e5fe04b4b3691267fbc5eb50fea (<class 'rdflib.graph.Graph'>)>"
      ]
     },
     "execution_count": 30,
     "metadata": {},
     "output_type": "execute_result"
    }
   ],
   "source": [
    "g.serialize('f1_data.rdf', format='turtle')"
   ]
  },
  {
   "cell_type": "code",
   "execution_count": 31,
   "id": "d2924cee",
   "metadata": {},
   "outputs": [
    {
     "data": {
      "text/plain": [
       "<Graph identifier=N93d89e5fe04b4b3691267fbc5eb50fea (<class 'rdflib.graph.Graph'>)>"
      ]
     },
     "execution_count": 31,
     "metadata": {},
     "output_type": "execute_result"
    }
   ],
   "source": [
    "for index, row in qualifying_df.iterrows():\n",
    "    qualifying_uri = URIRef(F1['qualifying/' + str(row['qualifyId'])])\n",
    "    driver_uri = URIRef(F1['driver/' + str(row['driverId'])])\n",
    "    g.add((qualifying_uri, F1.driver, driver_uri))\n",
    "\n",
    "# Serialize the updated RDF data\n",
    "g.serialize('f1_data.rdf', format='turtle')"
   ]
  },
  {
   "cell_type": "markdown",
   "id": "0dc0c1db",
   "metadata": {},
   "source": [
    "<h2>Query RDF Data:</h2>"
   ]
  },
  {
   "cell_type": "code",
   "execution_count": 37,
   "id": "a863c4c4",
   "metadata": {},
   "outputs": [],
   "source": [
    "qres = g.query(\n",
    "    \"\"\"\n",
    "    PREFIX rdf: <http://www.w3.org/1999/02/22-rdf-syntax-ns#>\n",
    "    PREFIX F1: <http://example.com/f1/>\n",
    "\n",
    "    SELECT ?driver ?driverRef ?number ?code ?forename ?surname ?dob ?nationality ?url\n",
    "       ?qualifyId ?raceId ?constructorId ?position\n",
    "       ?q1 ?q2 ?q3\n",
    "    WHERE {\n",
    "    ?driver rdf:type F1:Driver .\n",
    "    ?driver F1:driverRef ?driverRef .\n",
    "    ?driver F1:number ?number .\n",
    "    ?driver F1:code ?code .\n",
    "    ?driver F1:forename ?forename .\n",
    "    ?driver F1:surname ?surname .\n",
    "    ?driver F1:dob ?dob .\n",
    "    ?driver F1:nationality ?nationality .\n",
    "    ?driver F1:url ?url .\n",
    "    ?qualifying rdf:type F1:Qualifying .\n",
    "    ?qualifying F1:driver ?driver .\n",
    "    ?qualifying F1:qualifyId ?qualifyId .\n",
    "    ?qualifying F1:raceId ?raceId .\n",
    "    ?qualifying F1:constructorId ?constructorId .\n",
    "    ?qualifying F1:position ?position .\n",
    "    ?qualifying F1:q1 ?q1 .\n",
    "    ?qualifying F1:q2 ?q2 .\n",
    "    ?qualifying F1:q3 ?q3 .\n",
    "}\n",
    "    \"\"\"\n",
    ")\n",
    "\n",
    "\n",
    "\n",
    "\n",
    "for row in qres:\n",
    "    print(f\"Forename: {row.forename}, Surname: {row.surname}, DOB: {row.dob}, Nationality: {row.nationality}, URL: {row.url} \")"
   ]
  }
 ],
 "metadata": {
  "kernelspec": {
   "display_name": "Python 3 (ipykernel)",
   "language": "python",
   "name": "python3"
  },
  "language_info": {
   "codemirror_mode": {
    "name": "ipython",
    "version": 3
   },
   "file_extension": ".py",
   "mimetype": "text/x-python",
   "name": "python",
   "nbconvert_exporter": "python",
   "pygments_lexer": "ipython3",
   "version": "3.9.13"
  }
 },
 "nbformat": 4,
 "nbformat_minor": 5
}
